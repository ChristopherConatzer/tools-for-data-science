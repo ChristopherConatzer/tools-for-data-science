{
 "cells": [
  {
   "cell_type": "markdown",
   "id": "dd137275",
   "metadata": {},
   "source": [
    "# Data Science Tools and Ecosystem"
   ]
  },
  {
   "cell_type": "markdown",
   "id": "532193e7",
   "metadata": {},
   "source": [
    "In this notebook, Data Science Tools and Ecosytem are summarized."
   ]
  },
  {
   "cell_type": "markdown",
   "id": "2e7fdf7c",
   "metadata": {},
   "source": [
    "**Objectives:** 1. list popular programming languages 2. list commonly used libraries 3. Give examples of arithmetic expressions"
   ]
  },
  {
   "cell_type": "markdown",
   "id": "9e34373f",
   "metadata": {},
   "source": [
    "Some of the popular languages that Data Scientists us are:\n",
    "    1. Python\n",
    "    2. Java\n",
    "    3. R"
   ]
  },
  {
   "cell_type": "markdown",
   "id": "5444bb02",
   "metadata": {},
   "source": [
    "Some of the commonly used libraries used by data Scientists include:\n",
    "    1. Matplotlib\n",
    "    2. Pandas\n",
    "    3. scikit-learn"
   ]
  },
  {
   "cell_type": "markdown",
   "id": "6d555724",
   "metadata": {},
   "source": [
    "|Data Science Tools|\n",
    "|------------------|\n",
    "|     VScode       |\n",
    "| JupyterNotebook  |\n",
    "|     RStudio      |"
   ]
  },
  {
   "cell_type": "markdown",
   "id": "6df4c4ac",
   "metadata": {},
   "source": [
    "### Below are a few examples of evaluating arithmetic expressions in Python"
   ]
  },
  {
   "cell_type": "code",
   "execution_count": 3,
   "id": "c3e55dbc",
   "metadata": {},
   "outputs": [
    {
     "data": {
      "text/plain": [
       "17"
      ]
     },
     "execution_count": 3,
     "metadata": {},
     "output_type": "execute_result"
    }
   ],
   "source": [
    "# This is a simple arithmetic expression to multiply then add integers\n",
    "(3*4)+5"
   ]
  },
  {
   "cell_type": "code",
   "execution_count": 4,
   "id": "4886e26e",
   "metadata": {},
   "outputs": [
    {
     "data": {
      "text/plain": [
       "3.3333333333333335"
      ]
     },
     "execution_count": 4,
     "metadata": {},
     "output_type": "execute_result"
    }
   ],
   "source": [
    "# This will convert 200 minutes to hours by dividing by 60\n",
    "200/60"
   ]
  },
  {
   "cell_type": "markdown",
   "id": "ae170c9d",
   "metadata": {},
   "source": [
    "## Author\n",
    "Christopher Conatzer"
   ]
  },
  {
   "cell_type": "code",
   "execution_count": null,
   "id": "c8de0725",
   "metadata": {},
   "outputs": [],
   "source": []
  }
 ],
 "metadata": {
  "kernelspec": {
   "display_name": "Python 3 (ipykernel)",
   "language": "python",
   "name": "python3"
  },
  "language_info": {
   "codemirror_mode": {
    "name": "ipython",
    "version": 3
   },
   "file_extension": ".py",
   "mimetype": "text/x-python",
   "name": "python",
   "nbconvert_exporter": "python",
   "pygments_lexer": "ipython3",
   "version": "3.9.12"
  }
 },
 "nbformat": 4,
 "nbformat_minor": 5
}
